{
 "cells": [
  {
   "cell_type": "code",
   "execution_count": null,
   "metadata": {
    "collapsed": true
   },
   "outputs": [],
   "source": [
    "# Colour Quantizer using kMeans\n",
    "import numpy as np\n",
    "from sklearn.cluster import KMeans\n",
    "from sklearn.utils import shuffle\n",
    "from scipy.ndimage import imread \n",
    "import os\n",
    "import pandas as pd"
   ]
  },
  {
   "cell_type": "code",
   "execution_count": null,
   "metadata": {
    "collapsed": true
   },
   "outputs": [],
   "source": [
    "CHEF=[]\n",
    "FASHION_COLOURS=[]\n",
    "FOOD_COLOURS=[]\n",
    "SITE_COLOURS=[]\n",
    "DATABASE = {'chef':CHEF, 'fashion_colours':FASHION_COLOURS, 'food_colours':FOOD_COLOURS, 'site_colours':SITE_COLOURS}"
   ]
  },
  {
   "cell_type": "code",
   "execution_count": null,
   "metadata": {
    "collapsed": true
   },
   "outputs": [],
   "source": [
    "# Part 1a\n",
    "def findColourClusters(num_colours, album):\n",
    "    kmeans = KMeans(n_clusters=num_colours, random_state=0).fit(album)\n",
    "    kmeansClusterList = kmeans.cluster_centers_.tolist()\n",
    "    clusterListOfInts = [[int(i) for i in j] for j in  kmeansClusterList]\n",
    "    return clusterListOfInts\n",
    "\n",
    "# Part 1b\n",
    "def formatListOfColours(unformattedList):\n",
    "    formattedList=[]\n",
    "    for colour in unformattedList:\n",
    "        formattedList.append('rgb(' + str(colour[0]) + ',' + str(colour[1]) + ',' + str(colour[2]) + ')')\n",
    "    return formattedList    \n",
    "\n",
    "# Part 1\n",
    "def colourQuantize():\n",
    "    os.chdir('./chef_pics')\n",
    "    for root, dirs, filenames in os.walk('.'):\n",
    "        colours = []\n",
    "        print(root)\n",
    "        for pic in filenames:\n",
    "            print(pic)\n",
    "            if pic == '.DS_Store':\n",
    "                continue\n",
    "            else:\n",
    "                img = imread(os.path.join(root, pic))\n",
    "\n",
    "                w, h, c = tuple(img.shape) #width, height and colour channel of pic (in this case the colour channel is RGBa)\n",
    "                image_array = np.reshape(img, (w * h, c)) #reshape the current image array to have 'w' x 'h' rows & 4 columns (basically just rows of colours found in the pic)\n",
    "                photoColourClusters = findColourClusters(10, image_array)\n",
    "                colours.extend(photoColourClusters)\n",
    "        if colours == []:\n",
    "            continue\n",
    "        else:\n",
    "            \n",
    "            npColours = np.asarray(colours)\n",
    "            albumColourClusters = findColourClusters(48, npColours)\n",
    "            formattedColourList = formatListOfColours(albumColourClusters)\n",
    "            \n",
    "            if str(root)[-7:] == 'fashion':\n",
    "                chef = str(root)\n",
    "                DATABASE['chef'].append(chef[2:-8])\n",
    "                DATABASE['fashion_colours'].append(formattedColourList)\n",
    "            elif str(root)[-4:] == 'food':\n",
    "                DATABASE['food_colours'].append(formattedColourList)\n",
    "            elif str(root)[-7:] == 'website':\n",
    "                DATABASE['site_colours'].append(formattedColourList)\n",
    "                pd.DataFrame(DATABASE).T.reset_index().to_csv('formattedChefColours.csv', header=True)"
   ]
  },
  {
   "cell_type": "code",
   "execution_count": null,
   "metadata": {
    "collapsed": true
   },
   "outputs": [],
   "source": [
    "findPhotoClusters()"
   ]
  }
 ],
 "metadata": {
  "kernelspec": {
   "display_name": "Python 3",
   "language": "python",
   "name": "python3"
  },
  "language_info": {
   "codemirror_mode": {
    "name": "ipython",
    "version": 3
   },
   "file_extension": ".py",
   "mimetype": "text/x-python",
   "name": "python",
   "nbconvert_exporter": "python",
   "pygments_lexer": "ipython3",
   "version": "3.5.2"
  }
 },
 "nbformat": 4,
 "nbformat_minor": 0
}
